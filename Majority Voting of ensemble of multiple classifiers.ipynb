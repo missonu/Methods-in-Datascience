{
 "cells": [
  {
   "cell_type": "markdown",
   "id": "2d7a671b",
   "metadata": {},
   "source": [
    "Mojority voting on ensemble of multiple classifiers:\n",
    "    we can combine different classifiers such as Logistic regression, decision trees Random forest, etc, to classify, and finally a Voting Classifier can be used to see the majority voting of all the classifiers and make the decision.\n",
    "    Here I have also applied GridSearch algo to find the best parameters for the classifiers.\n",
    "    Pipeline module from sklearn learn is used to form the ensemble.\n",
    "    we can also perform Normalization of the data if needed.\n",
    "    "
   ]
  },
  {
   "cell_type": "markdown",
   "id": "fc330bc1",
   "metadata": {},
   "source": [
    "# Mojority voting on ensemble of multiple classifiers: "
   ]
  },
  {
   "cell_type": "code",
   "execution_count": 1,
   "id": "51e8324a",
   "metadata": {},
   "outputs": [],
   "source": [
    "#create an artificial data:\n",
    "from sklearn.datasets import make_classification\n",
    "\n",
    "x,y=make_classification(n_samples=2000, n_features=25, n_informative=20, n_redundant=5, n_classes=2, random_state=1)\n"
   ]
  },
  {
   "cell_type": "code",
   "execution_count": 7,
   "id": "8b6be8e8",
   "metadata": {},
   "outputs": [],
   "source": [
    "import pandas as pd"
   ]
  },
  {
   "cell_type": "code",
   "execution_count": 8,
   "id": "a5b6ad29",
   "metadata": {},
   "outputs": [],
   "source": [
    "df=pd.DataFrame(x)"
   ]
  },
  {
   "cell_type": "code",
   "execution_count": 12,
   "id": "247a65ae",
   "metadata": {},
   "outputs": [],
   "source": [
    "y1=pd.Series(y)"
   ]
  },
  {
   "cell_type": "code",
   "execution_count": 13,
   "id": "32081102",
   "metadata": {},
   "outputs": [
    {
     "data": {
      "text/plain": [
       "1    1004\n",
       "0     996\n",
       "dtype: int64"
      ]
     },
     "execution_count": 13,
     "metadata": {},
     "output_type": "execute_result"
    }
   ],
   "source": [
    "y1.value_counts()"
   ]
  },
  {
   "cell_type": "code",
   "execution_count": 14,
   "id": "9e48f411",
   "metadata": {},
   "outputs": [],
   "source": [
    "#the dataset is balanced and there does not need any handling"
   ]
  },
  {
   "cell_type": "code",
   "execution_count": 37,
   "id": "83fbdfac",
   "metadata": {},
   "outputs": [],
   "source": [
    "from sklearn.tree import DecisionTreeClassifier\n",
    "from sklearn.ensemble import RandomForestClassifier, VotingClassifier\n",
    "from sklearn.pipeline import Pipeline\n",
    "from sklearn.linear_model import LogisticRegression\n",
    "from sklearn.svm import SVC\n",
    "from sklearn.model_selection import cross_val_score, RepeatedStratifiedKFold\n",
    "import numpy as np\n",
    "import seaborn as sns\n",
    "import matplotlib.pyplot as plt\n",
    "from sklearn.preprocessing import StandardScaler\n",
    "from sklearn.model_selection import GridSearchCV, RandomizedSearchCV"
   ]
  },
  {
   "cell_type": "code",
   "execution_count": null,
   "id": "fe8a2d58",
   "metadata": {},
   "outputs": [],
   "source": [
    "#Hyperparameter tuning of Logistic Regression \n",
    "\n",
    "log_class=LogisticRegression()\n",
    "grid={'C':10.0**np.arange(-2,3),\n",
    "     'penalty': ['l1', 'l2']}\n",
    "cv=RepeatedStratifiedKFold(n_splits=5, n_repeats=3, random_state=1)\n",
    "\n",
    "clf=GridSearchCV(log_class, grid, cv=cv, n_jobs=-1, scoring='f1_macro')\n",
    "clf.fit(x,y)\n",
    "clf.best_params_"
   ]
  },
  {
   "cell_type": "code",
   "execution_count": 49,
   "id": "b4ed3063",
   "metadata": {},
   "outputs": [
    {
     "data": {
      "text/plain": [
       "{'C': 100, 'gamma': 0.001, 'kernel': 'rbf'}"
      ]
     },
     "execution_count": 49,
     "metadata": {},
     "output_type": "execute_result"
    }
   ],
   "source": [
    "#Hyperparameter tuning of SVC\n",
    "\n",
    "svm=SVC()\n",
    "param_grid = {'C': [0.1, 1, 10, 100, 1000],\n",
    "              'gamma': [1, 0.1, 0.01, 0.001, 0.0001],\n",
    "              'kernel': ['rbf']}\n",
    "cv=RepeatedStratifiedKFold(n_splits=5, n_repeats=3, random_state=1)\n",
    "\n",
    "clf=GridSearchCV(svm, param_grid, cv=cv, n_jobs=-1, scoring='f1_macro')\n",
    "clf.fit(x,y)\n",
    "clf.best_params_"
   ]
  },
  {
   "cell_type": "code",
   "execution_count": 56,
   "id": "337112e5",
   "metadata": {},
   "outputs": [
    {
     "data": {
      "text/plain": [
       "{'min_samples_split': 5, 'n_estimators': 800, 'oob_score': True}"
      ]
     },
     "execution_count": 56,
     "metadata": {},
     "output_type": "execute_result"
    }
   ],
   "source": [
    "# Hyperparameter tuning of Random Forest C\n",
    "\n",
    "rf=RandomForestClassifier()\n",
    "# Number of trees in random forest\n",
    "n_estimators = [int(x) for x in np.linspace(start = 200, stop = 1000, num = 5)]\n",
    "\n",
    "# Minimum number of samples required to split a node\n",
    "min_samples_split = [2, 5, 10]\n",
    "\n",
    "# Create the random grid\n",
    "random_grid = {'n_estimators': n_estimators,\n",
    "               \n",
    "               'min_samples_split': min_samples_split,\n",
    "               \n",
    "               \n",
    "              'oob_score': [True, False]}\n",
    "cv=RepeatedStratifiedKFold(n_splits=5, n_repeats=3, random_state=1)\n",
    "\n",
    "clf=GridSearchCV(rf, random_grid, cv=cv, n_jobs=-1, scoring='f1_macro')\n",
    "clf.fit(x,y)\n",
    "clf.best_params_"
   ]
  },
  {
   "cell_type": "code",
   "execution_count": 59,
   "id": "499da452",
   "metadata": {},
   "outputs": [],
   "source": [
    "models=list()\n",
    "dt=Pipeline([('m', DecisionTreeClassifier())])\n",
    "models.append(('Decision', dt))\n",
    "rf=Pipeline([('m', RandomForestClassifier(min_samples_split= 5, n_estimators= 800, oob_score= True))])\n",
    "models.append(('RandomForest', rf))\n",
    "svm=Pipeline([('m', SVC(C= 100, gamma= 0.001, kernel= 'rbf'))])\n",
    "models.append(('SVC', svm))\n",
    "lr=Pipeline([('m', LogisticRegression(C=0.01, penalty='l2'))])\n",
    "models.append(('LR', lr))\n",
    "ensemble=VotingClassifier(estimators=models, voting='hard')"
   ]
  },
  {
   "cell_type": "code",
   "execution_count": 60,
   "id": "1d6b8c2b",
   "metadata": {},
   "outputs": [
    {
     "data": {
      "text/plain": [
       "[('Decision', Pipeline(steps=[('m', DecisionTreeClassifier())])),\n",
       " ('RandomForest',\n",
       "  Pipeline(steps=[('m',\n",
       "                   RandomForestClassifier(min_samples_split=5, n_estimators=800,\n",
       "                                          oob_score=True))])),\n",
       " ('SVC', Pipeline(steps=[('m', SVC(C=100, gamma=0.001))])),\n",
       " ('LR', Pipeline(steps=[('m', LogisticRegression(C=0.01))]))]"
      ]
     },
     "execution_count": 60,
     "metadata": {},
     "output_type": "execute_result"
    }
   ],
   "source": [
    "models"
   ]
  },
  {
   "cell_type": "code",
   "execution_count": 61,
   "id": "59f911ff",
   "metadata": {},
   "outputs": [
    {
     "data": {
      "text/html": [
       "<style>#sk-container-id-5 {color: black;background-color: white;}#sk-container-id-5 pre{padding: 0;}#sk-container-id-5 div.sk-toggleable {background-color: white;}#sk-container-id-5 label.sk-toggleable__label {cursor: pointer;display: block;width: 100%;margin-bottom: 0;padding: 0.3em;box-sizing: border-box;text-align: center;}#sk-container-id-5 label.sk-toggleable__label-arrow:before {content: \"▸\";float: left;margin-right: 0.25em;color: #696969;}#sk-container-id-5 label.sk-toggleable__label-arrow:hover:before {color: black;}#sk-container-id-5 div.sk-estimator:hover label.sk-toggleable__label-arrow:before {color: black;}#sk-container-id-5 div.sk-toggleable__content {max-height: 0;max-width: 0;overflow: hidden;text-align: left;background-color: #f0f8ff;}#sk-container-id-5 div.sk-toggleable__content pre {margin: 0.2em;color: black;border-radius: 0.25em;background-color: #f0f8ff;}#sk-container-id-5 input.sk-toggleable__control:checked~div.sk-toggleable__content {max-height: 200px;max-width: 100%;overflow: auto;}#sk-container-id-5 input.sk-toggleable__control:checked~label.sk-toggleable__label-arrow:before {content: \"▾\";}#sk-container-id-5 div.sk-estimator input.sk-toggleable__control:checked~label.sk-toggleable__label {background-color: #d4ebff;}#sk-container-id-5 div.sk-label input.sk-toggleable__control:checked~label.sk-toggleable__label {background-color: #d4ebff;}#sk-container-id-5 input.sk-hidden--visually {border: 0;clip: rect(1px 1px 1px 1px);clip: rect(1px, 1px, 1px, 1px);height: 1px;margin: -1px;overflow: hidden;padding: 0;position: absolute;width: 1px;}#sk-container-id-5 div.sk-estimator {font-family: monospace;background-color: #f0f8ff;border: 1px dotted black;border-radius: 0.25em;box-sizing: border-box;margin-bottom: 0.5em;}#sk-container-id-5 div.sk-estimator:hover {background-color: #d4ebff;}#sk-container-id-5 div.sk-parallel-item::after {content: \"\";width: 100%;border-bottom: 1px solid gray;flex-grow: 1;}#sk-container-id-5 div.sk-label:hover label.sk-toggleable__label {background-color: #d4ebff;}#sk-container-id-5 div.sk-serial::before {content: \"\";position: absolute;border-left: 1px solid gray;box-sizing: border-box;top: 0;bottom: 0;left: 50%;z-index: 0;}#sk-container-id-5 div.sk-serial {display: flex;flex-direction: column;align-items: center;background-color: white;padding-right: 0.2em;padding-left: 0.2em;position: relative;}#sk-container-id-5 div.sk-item {position: relative;z-index: 1;}#sk-container-id-5 div.sk-parallel {display: flex;align-items: stretch;justify-content: center;background-color: white;position: relative;}#sk-container-id-5 div.sk-item::before, #sk-container-id-5 div.sk-parallel-item::before {content: \"\";position: absolute;border-left: 1px solid gray;box-sizing: border-box;top: 0;bottom: 0;left: 50%;z-index: -1;}#sk-container-id-5 div.sk-parallel-item {display: flex;flex-direction: column;z-index: 1;position: relative;background-color: white;}#sk-container-id-5 div.sk-parallel-item:first-child::after {align-self: flex-end;width: 50%;}#sk-container-id-5 div.sk-parallel-item:last-child::after {align-self: flex-start;width: 50%;}#sk-container-id-5 div.sk-parallel-item:only-child::after {width: 0;}#sk-container-id-5 div.sk-dashed-wrapped {border: 1px dashed gray;margin: 0 0.4em 0.5em 0.4em;box-sizing: border-box;padding-bottom: 0.4em;background-color: white;}#sk-container-id-5 div.sk-label label {font-family: monospace;font-weight: bold;display: inline-block;line-height: 1.2em;}#sk-container-id-5 div.sk-label-container {text-align: center;}#sk-container-id-5 div.sk-container {/* jupyter's `normalize.less` sets `[hidden] { display: none; }` but bootstrap.min.css set `[hidden] { display: none !important; }` so we also need the `!important` here to be able to override the default hidden behavior on the sphinx rendered scikit-learn.org. See: https://github.com/scikit-learn/scikit-learn/issues/21755 */display: inline-block !important;position: relative;}#sk-container-id-5 div.sk-text-repr-fallback {display: none;}</style><div id=\"sk-container-id-5\" class=\"sk-top-container\"><div class=\"sk-text-repr-fallback\"><pre>VotingClassifier(estimators=[(&#x27;Decision&#x27;,\n",
       "                              Pipeline(steps=[(&#x27;m&#x27;,\n",
       "                                               DecisionTreeClassifier())])),\n",
       "                             (&#x27;RandomForest&#x27;,\n",
       "                              Pipeline(steps=[(&#x27;m&#x27;,\n",
       "                                               RandomForestClassifier(min_samples_split=5,\n",
       "                                                                      n_estimators=800,\n",
       "                                                                      oob_score=True))])),\n",
       "                             (&#x27;SVC&#x27;,\n",
       "                              Pipeline(steps=[(&#x27;m&#x27;, SVC(C=100, gamma=0.001))])),\n",
       "                             (&#x27;LR&#x27;,\n",
       "                              Pipeline(steps=[(&#x27;m&#x27;,\n",
       "                                               LogisticRegression(C=0.01))]))])</pre><b>In a Jupyter environment, please rerun this cell to show the HTML representation or trust the notebook. <br />On GitHub, the HTML representation is unable to render, please try loading this page with nbviewer.org.</b></div><div class=\"sk-container\" hidden><div class=\"sk-item sk-dashed-wrapped\"><div class=\"sk-label-container\"><div class=\"sk-label sk-toggleable\"><input class=\"sk-toggleable__control sk-hidden--visually\" id=\"sk-estimator-id-10\" type=\"checkbox\" ><label for=\"sk-estimator-id-10\" class=\"sk-toggleable__label sk-toggleable__label-arrow\">VotingClassifier</label><div class=\"sk-toggleable__content\"><pre>VotingClassifier(estimators=[(&#x27;Decision&#x27;,\n",
       "                              Pipeline(steps=[(&#x27;m&#x27;,\n",
       "                                               DecisionTreeClassifier())])),\n",
       "                             (&#x27;RandomForest&#x27;,\n",
       "                              Pipeline(steps=[(&#x27;m&#x27;,\n",
       "                                               RandomForestClassifier(min_samples_split=5,\n",
       "                                                                      n_estimators=800,\n",
       "                                                                      oob_score=True))])),\n",
       "                             (&#x27;SVC&#x27;,\n",
       "                              Pipeline(steps=[(&#x27;m&#x27;, SVC(C=100, gamma=0.001))])),\n",
       "                             (&#x27;LR&#x27;,\n",
       "                              Pipeline(steps=[(&#x27;m&#x27;,\n",
       "                                               LogisticRegression(C=0.01))]))])</pre></div></div></div><div class=\"sk-parallel\"><div class=\"sk-parallel-item\"><div class=\"sk-item\"><div class=\"sk-label-container\"><div class=\"sk-label sk-toggleable\"><label>Decision</label></div></div><div class=\"sk-serial\"><div class=\"sk-item\"><div class=\"sk-serial\"><div class=\"sk-item\"><div class=\"sk-estimator sk-toggleable\"><input class=\"sk-toggleable__control sk-hidden--visually\" id=\"sk-estimator-id-11\" type=\"checkbox\" ><label for=\"sk-estimator-id-11\" class=\"sk-toggleable__label sk-toggleable__label-arrow\">DecisionTreeClassifier</label><div class=\"sk-toggleable__content\"><pre>DecisionTreeClassifier()</pre></div></div></div></div></div></div></div></div><div class=\"sk-parallel-item\"><div class=\"sk-item\"><div class=\"sk-label-container\"><div class=\"sk-label sk-toggleable\"><label>RandomForest</label></div></div><div class=\"sk-serial\"><div class=\"sk-item\"><div class=\"sk-serial\"><div class=\"sk-item\"><div class=\"sk-estimator sk-toggleable\"><input class=\"sk-toggleable__control sk-hidden--visually\" id=\"sk-estimator-id-12\" type=\"checkbox\" ><label for=\"sk-estimator-id-12\" class=\"sk-toggleable__label sk-toggleable__label-arrow\">RandomForestClassifier</label><div class=\"sk-toggleable__content\"><pre>RandomForestClassifier(min_samples_split=5, n_estimators=800, oob_score=True)</pre></div></div></div></div></div></div></div></div><div class=\"sk-parallel-item\"><div class=\"sk-item\"><div class=\"sk-label-container\"><div class=\"sk-label sk-toggleable\"><label>SVC</label></div></div><div class=\"sk-serial\"><div class=\"sk-item\"><div class=\"sk-serial\"><div class=\"sk-item\"><div class=\"sk-estimator sk-toggleable\"><input class=\"sk-toggleable__control sk-hidden--visually\" id=\"sk-estimator-id-13\" type=\"checkbox\" ><label for=\"sk-estimator-id-13\" class=\"sk-toggleable__label sk-toggleable__label-arrow\">SVC</label><div class=\"sk-toggleable__content\"><pre>SVC(C=100, gamma=0.001)</pre></div></div></div></div></div></div></div></div><div class=\"sk-parallel-item\"><div class=\"sk-item\"><div class=\"sk-label-container\"><div class=\"sk-label sk-toggleable\"><label>LR</label></div></div><div class=\"sk-serial\"><div class=\"sk-item\"><div class=\"sk-serial\"><div class=\"sk-item\"><div class=\"sk-estimator sk-toggleable\"><input class=\"sk-toggleable__control sk-hidden--visually\" id=\"sk-estimator-id-14\" type=\"checkbox\" ><label for=\"sk-estimator-id-14\" class=\"sk-toggleable__label sk-toggleable__label-arrow\">LogisticRegression</label><div class=\"sk-toggleable__content\"><pre>LogisticRegression(C=0.01)</pre></div></div></div></div></div></div></div></div></div></div></div></div>"
      ],
      "text/plain": [
       "VotingClassifier(estimators=[('Decision',\n",
       "                              Pipeline(steps=[('m',\n",
       "                                               DecisionTreeClassifier())])),\n",
       "                             ('RandomForest',\n",
       "                              Pipeline(steps=[('m',\n",
       "                                               RandomForestClassifier(min_samples_split=5,\n",
       "                                                                      n_estimators=800,\n",
       "                                                                      oob_score=True))])),\n",
       "                             ('SVC',\n",
       "                              Pipeline(steps=[('m', SVC(C=100, gamma=0.001))])),\n",
       "                             ('LR',\n",
       "                              Pipeline(steps=[('m',\n",
       "                                               LogisticRegression(C=0.01))]))])"
      ]
     },
     "execution_count": 61,
     "metadata": {},
     "output_type": "execute_result"
    }
   ],
   "source": [
    "ensemble"
   ]
  },
  {
   "cell_type": "code",
   "execution_count": 57,
   "id": "ba2e40c6",
   "metadata": {},
   "outputs": [
    {
     "name": "stdout",
     "output_type": "stream",
     "text": [
      "2.1043152809143066\n",
      "[0.9025 0.885  0.9075 0.9    0.93   0.8875 0.9125 0.9175 0.9125 0.9125\n",
      " 0.92   0.875  0.9125 0.9125 0.905 ]\n",
      "average accuracy\n",
      "0.9061666666666665\n",
      "Minimum accuracy:0.875\n",
      "Maximum accuracy:0.93\n"
     ]
    }
   ],
   "source": [
    "#performance without using grid search:\n",
    "\n",
    "import time\n",
    "\n",
    "start=time.time()\n",
    "cv=RepeatedStratifiedKFold(n_splits=5, n_repeats=3, random_state=1)\n",
    "n_scores=cross_val_score(ensemble, x, y ,scoring='accuracy', cv=cv, n_jobs=-1)\n",
    "end=time.time()\n",
    "time1=end-start\n",
    "\n",
    "print(time1)\n",
    "\n",
    "print(n_scores)\n",
    "print(\"average accuracy\")\n",
    "print(np.mean(n_scores))\n",
    "#average accuracy\n",
    "print(\"Minimum accuracy:\" + str(np.min(n_scores)))\n",
    "\n",
    "print(\"Maximum accuracy:\" + str(np.max(n_scores)))\n"
   ]
  },
  {
   "cell_type": "code",
   "execution_count": 62,
   "id": "37dddbd7",
   "metadata": {},
   "outputs": [
    {
     "name": "stdout",
     "output_type": "stream",
     "text": [
      "13.637564897537231\n",
      "[0.9125 0.8925 0.9075 0.8975 0.94   0.89   0.93   0.9275 0.9075 0.915\n",
      " 0.93   0.89   0.9175 0.93   0.91  ]\n",
      "average accuracy\n",
      "0.9131666666666668\n",
      "Minimum accuracy:0.89\n",
      "Maximum accuracy:0.94\n"
     ]
    }
   ],
   "source": [
    "#performance with using grid search:\n",
    "\n",
    "import time\n",
    "\n",
    "start=time.time()\n",
    "cv=RepeatedStratifiedKFold(n_splits=5, n_repeats=3, random_state=1)\n",
    "n_scores=cross_val_score(ensemble, x, y ,scoring='accuracy', cv=cv, n_jobs=-1)\n",
    "end=time.time()\n",
    "time1=end-start\n",
    "\n",
    "print(time1)\n",
    "\n",
    "print(n_scores)\n",
    "print(\"average accuracy\")\n",
    "print(np.mean(n_scores))\n",
    "#average accuracy\n",
    "print(\"Minimum accuracy:\" + str(np.min(n_scores)))\n",
    "\n",
    "print(\"Maximum accuracy:\" + str(np.max(n_scores)))"
   ]
  },
  {
   "cell_type": "code",
   "execution_count": null,
   "id": "965f261c",
   "metadata": {},
   "outputs": [],
   "source": []
  }
 ],
 "metadata": {
  "kernelspec": {
   "display_name": "Python 3 (ipykernel)",
   "language": "python",
   "name": "python3"
  },
  "language_info": {
   "codemirror_mode": {
    "name": "ipython",
    "version": 3
   },
   "file_extension": ".py",
   "mimetype": "text/x-python",
   "name": "python",
   "nbconvert_exporter": "python",
   "pygments_lexer": "ipython3",
   "version": "3.9.7"
  }
 },
 "nbformat": 4,
 "nbformat_minor": 5
}
